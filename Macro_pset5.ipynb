{
  "nbformat": 4,
  "nbformat_minor": 0,
  "metadata": {
    "colab": {
      "name": "Macro_pset5.ipynb",
      "provenance": [],
      "collapsed_sections": [],
      "authorship_tag": "ABX9TyNhls991I6SqE2aY48iThlp",
      "include_colab_link": true
    },
    "kernelspec": {
      "name": "python3",
      "display_name": "Python 3"
    }
  },
  "cells": [
    {
      "cell_type": "markdown",
      "metadata": {
        "id": "view-in-github",
        "colab_type": "text"
      },
      "source": [
        "<a href=\"https://colab.research.google.com/github/Jun-H-Lee/Fall-2020/blob/main/Macro_pset5.ipynb\" target=\"_parent\"><img src=\"https://colab.research.google.com/assets/colab-badge.svg\" alt=\"Open In Colab\"/></a>"
      ]
    },
    {
      "cell_type": "code",
      "metadata": {
        "id": "swd3ai1NEoLD"
      },
      "source": [
        "import numpy as np\n",
        "import matplotlib.pyplot as plt\n",
        "\n",
        "%matplotlib inline\n",
        "import scipy.stats as spt"
      ],
      "execution_count": null,
      "outputs": []
    },
    {
      "cell_type": "markdown",
      "metadata": {
        "id": "vqNq3XD5FLGk"
      },
      "source": [
        "**Exercise 3. (d)**"
      ]
    },
    {
      "cell_type": "code",
      "metadata": {
        "id": "1-z7yZd-E9xc"
      },
      "source": [
        "alpha = 1\n",
        "beta = 0.95\n",
        "R = 1/beta\n",
        "delta = 0.05\n",
        "b = 0.1\n",
        "mu_w = -0.125\n",
        "sig_w = 0.5"
      ],
      "execution_count": null,
      "outputs": []
    },
    {
      "cell_type": "code",
      "metadata": {
        "id": "geiet8aKFfV7"
      },
      "source": [
        "def u(c, alpha):\n",
        "    \"\"\"\n",
        "    Utility function\n",
        "    \"\"\"\n",
        "    if c < 0:\n",
        "      return -np.inf\n",
        "    if alpha==1:\n",
        "      return np.log(c)\n",
        "    else:\n",
        "      return (c**(1 - alpha) - 1) / (1 - alpha)"
      ],
      "execution_count": null,
      "outputs": []
    },
    {
      "cell_type": "markdown",
      "metadata": {
        "id": "btGW5L1TfAkg"
      },
      "source": [
        "Bellman Operator"
      ]
    },
    {
      "cell_type": "code",
      "metadata": {
        "id": "84kTDSC0ezHL"
      },
      "source": [
        "def T(v, \n",
        "      alpha, beta, R, delta, b, \n",
        "      w_grid, w_prob, a_grid):\n",
        "    \"\"\"\n",
        "    The Bellman operator.  Updates the guess of the value function.\n",
        "\n",
        "      * v is an array representing a guess of the value function\n",
        "\n",
        "    \"\"\"\n",
        "    v_new = np.empty_like(v)\n",
        "    for i_0 in range(np.shape(v)[0]):\n",
        "      for i_1 in range(np.shape(v)[1]):\n",
        "        for i_2 in range(np.shape(v)[2]):\n",
        "          if i_2 == 0:\n",
        "            v_greedy = np.zeros(len(a_grid))\n",
        "            for j_1 in range(len(v_greedy)):\n",
        "              v_greedy[j_1] = u(R*a_grid[i_1] + b - a_grid[j_1], alpha) + beta * np.inner(np.maximum(v[:,j_1,0], v[:,j_1,1]), w_prob)\n",
        "            v_new[i_0, i_1, i_2] = np.max([np.max(v_greedy), v[i_0, i_1, 1]])\n",
        "          if i_2 == 1:\n",
        "            v_greedy = np.zeros(len(a_grid))\n",
        "            for j_1 in range(len(v_greedy)):\n",
        "              v_greedy[j_1] = u(R*a_grid[i_1] + w_grid[i_0] - a_grid[j_1], alpha) + beta * (delta*v[i_0, j_1, 0] + (1-delta)*v[i_0, j_1, 1])\n",
        "            v_new[i_0, i_1, i_2] = np.max(v_greedy) \n",
        "    return v_new"
      ],
      "execution_count": null,
      "outputs": []
    },
    {
      "cell_type": "markdown",
      "metadata": {
        "id": "68Y8t9HjfaPp"
      },
      "source": [
        "Value Function Iteration"
      ]
    },
    {
      "cell_type": "code",
      "metadata": {
        "id": "AJVphle3fb2q"
      },
      "source": [
        "def solve_model(alpha, beta, R, delta, b, mu_w, sig_w,\n",
        "                w_grid_size, a_grid_size, a_max, w_max,  tol=1e-4,\n",
        "                max_iter=1000,\n",
        "                verbose=True,\n",
        "                print_skip=25):\n",
        "    \"\"\"\n",
        "    Solve model by iterating with the Bellman operator.\n",
        "\n",
        "    \"\"\"\n",
        "    # Discretize Wage (log Normal) Distribution\n",
        "    w_grid = np.linspace(0.01, w_max, w_grid_size)\n",
        "    w_prob = spt.lognorm(sig_w).pdf(w_grid)\n",
        "    w_prob = w_prob / np.sum(w_prob)\n",
        "    w_grid = w_grid * np.exp(mu_w)\n",
        "\n",
        "\n",
        "    # Discretize Asset\n",
        "    a_grid = np.linspace(0.01, a_max, a_grid_size)\n",
        "\n",
        "    # Set up loop\n",
        "    v = np.zeros([w_grid_size, a_grid_size, 2])  # Initial condition\n",
        "    i = 0\n",
        "    error = tol + 1\n",
        "\n",
        "    while i < max_iter and error > tol:\n",
        "        v_new = T(v = v, alpha = alpha, beta = beta, R = R, delta = delta, b = b, w_grid = w_grid, w_prob = w_prob, a_grid = a_grid)\n",
        "        error = np.max(np.abs(v - v_new))\n",
        "        i += 1\n",
        "        if verbose and i % print_skip == 0:\n",
        "            print(f\"Error at iteration {i} is {error}.\")\n",
        "        v = v_new\n",
        "\n",
        "    if i == max_iter:\n",
        "        print(\"Failed to converge!\")\n",
        "\n",
        "    if verbose and i < max_iter:\n",
        "        print(f\"\\nConverged in {i} iterations.\")\n",
        "\n",
        "    return  v_new"
      ],
      "execution_count": null,
      "outputs": []
    },
    {
      "cell_type": "markdown",
      "metadata": {
        "id": "rW2qxfgWpv0n"
      },
      "source": [
        "Implementation"
      ]
    },
    {
      "cell_type": "code",
      "metadata": {
        "colab": {
          "base_uri": "https://localhost:8080/"
        },
        "id": "TJ-UR6TJmJ1t",
        "outputId": "1d9174f8-574f-4957-8435-1e2f0685a40f"
      },
      "source": [
        "a_max, w_max = 5, 3\n",
        "a_grid_size, w_grid_size = 51, 31\n",
        "v = solve_model(alpha = alpha, beta = beta, R = R, delta = delta, b = b, mu_w = mu_w, sig_w = sig_w, w_max = w_max, \n",
        "                w_grid_size = w_grid_size, a_grid_size = a_grid_size, a_max = a_max)"
      ],
      "execution_count": null,
      "outputs": [
        {
          "output_type": "stream",
          "text": [
            "Error at iteration 25 is 0.38162962894925556.\n",
            "Error at iteration 50 is 0.08945704113849118.\n",
            "Error at iteration 75 is 0.026412990237016487.\n",
            "Error at iteration 100 is 0.007798671232379206.\n",
            "Error at iteration 125 is 0.0023026273225781324.\n",
            "Error at iteration 150 is 0.0006798712791820094.\n",
            "Error at iteration 175 is 0.0002007380663471281.\n",
            "\n",
            "Converged in 190 iterations.\n"
          ],
          "name": "stdout"
        }
      ]
    },
    {
      "cell_type": "markdown",
      "metadata": {
        "id": "zcGedTZCy63U"
      },
      "source": [
        "**Exercise 3. (e)**"
      ]
    },
    {
      "cell_type": "markdown",
      "metadata": {
        "id": "sYkFC6z5xdSu"
      },
      "source": [
        "Plot value function of unemployed worker with respect to wage for each asset"
      ]
    },
    {
      "cell_type": "code",
      "metadata": {
        "colab": {
          "base_uri": "https://localhost:8080/",
          "height": 297
        },
        "id": "lEBKefMtqOxN",
        "outputId": "121aa820-7416-4af4-d34a-ec33965fbb11"
      },
      "source": [
        "a_grid = np.linspace(0, a_max, a_grid_size)\n",
        "w_grid = np.linspace(0.01, w_max, w_grid_size) * np.exp(mu_w)\n",
        "for i_1 in range(a_grid_size):\n",
        "  plt.plot(w_grid, v[:, i_1, 0])\n",
        "  if i_1 % 20 == 0:\n",
        "    plt.plot(w_grid, v[:, i_1, 0], label = \"a = \" + np.str(a_grid[i_1]))\n",
        "\n",
        "plt.legend()\n",
        "plt.xlabel(\"wage offer\")\n",
        "plt.ylabel(\"value\")\n"
      ],
      "execution_count": null,
      "outputs": [
        {
          "output_type": "execute_result",
          "data": {
            "text/plain": [
              "Text(0, 0.5, 'value')"
            ]
          },
          "metadata": {
            "tags": []
          },
          "execution_count": 230
        },
        {
          "output_type": "display_data",
          "data": {
            "image/png": "[encoded data removed]",
            "text/plain": [
              "<Figure size 432x288 with 1 Axes>"
            ]
          },
          "metadata": {
            "tags": [],
            "needs_background": "light"
          }
        }
      ]
    },
    {
      "cell_type": "markdown",
      "metadata": {
        "id": "usQ_NXoCTrpC"
      },
      "source": [
        "We can see that the kink point (reservation wage) increases as asset increases.\n",
        "\n",
        "*Interpretation*\n",
        "1. As the worker has more asset, he/she has more power to wait for the better wage offer.\n",
        "2. As the worker has more asset, marginal benefit of wage decreases, so that he/she asks for more wage. \n",
        "\n",
        "---\n",
        "\n"
      ]
    },
    {
      "cell_type": "markdown",
      "metadata": {
        "id": "p2N6Tb1-zAGS"
      },
      "source": [
        "**Exercise 3. (f)**"
      ]
    },
    {
      "cell_type": "markdown",
      "metadata": {
        "id": "PXcW19P4zLNx"
      },
      "source": [
        "*Case 1:* Larger $\\sigma_w$"
      ]
    },
    {
      "cell_type": "code",
      "metadata": {
        "id": "HDJDB7SI6CDx"
      },
      "source": [
        "sig_w = 1\n",
        "v = solve_model(alpha = alpha, beta = beta, R = R, delta = delta, b = b, mu_w = mu_w, sig_w = sig_w, w_max = w_max, \n",
        "                w_grid_size = w_grid_size, a_grid_size = a_grid_size, a_max = a_max)\n",
        "for i_1 in range(a_grid_size):\n",
        "  plt.plot(v[:, i_1, 0])\n",
        "  if i_1 % 20 == 0:\n",
        "    plt.plot(v[:, i_1, 0], label = \"a = \" + np.str(a_grid[i_1]))\n",
        "\n",
        "plt.legend()"
      ],
      "execution_count": null,
      "outputs": []
    },
    {
      "cell_type": "markdown",
      "metadata": {
        "id": "ULdD0p0gP9OH"
      },
      "source": [
        ""
      ]
    },
    {
      "cell_type": "markdown",
      "metadata": {
        "id": "KGWydvwaP9ub"
      },
      "source": [
        "*Case 2:* Larger $\\delta$\n",
        " "
      ]
    },
    {
      "cell_type": "code",
      "metadata": {
        "id": "U-VsRdSAQECF"
      },
      "source": [
        "sig_w = 0.5\n",
        "delta = 0.1\n",
        "v = solve_model(alpha = alpha, beta = beta, R = R, delta = delta, b = b, mu_w = mu_w, sig_w = sig_w, w_max = w_max, \n",
        "                w_grid_size = w_grid_size, a_grid_size = a_grid_size, a_max = a_max)\n",
        "for i_1 in range(a_grid_size):\n",
        "  plt.plot(v[:, i_1, 0])\n",
        "  if i_1 % 20 == 0:\n",
        "    plt.plot(v[:, i_1, 0], label = \"a = \" + np.str(a_grid[i_1]))\n",
        "\n",
        "plt.legend()"
      ],
      "execution_count": null,
      "outputs": []
    }
  ]
}