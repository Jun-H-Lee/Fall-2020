{
  "nbformat": 4,
  "nbformat_minor": 0,
  "metadata": {
    "colab": {
      "name": "Macro_pset2.ipynb",
      "provenance": [],
      "authorship_tag": "ABX9TyMZ4702tn0dH4v0J3A/LaLT",
      "include_colab_link": true
    },
    "kernelspec": {
      "name": "python3",
      "display_name": "Python 3"
    }
  },
  "cells": [
    {
      "cell_type": "markdown",
      "metadata": {
        "id": "view-in-github",
        "colab_type": "text"
      },
      "source": [
        "<a href=\"https://colab.research.google.com/github/Jun-H-Lee/Fall-2020/blob/main/Macro_pset2.ipynb\" target=\"_parent\"><img src=\"https://colab.research.google.com/assets/colab-badge.svg\" alt=\"Open In Colab\"/></a>"
      ]
    },
    {
      "cell_type": "markdown",
      "metadata": {
        "id": "h021nuruM9ab"
      },
      "source": [
        "# Problem 6"
      ]
    },
    {
      "cell_type": "markdown",
      "metadata": {
        "id": "_xQInPe1IDqm"
      },
      "source": [
        "Parameters"
      ]
    },
    {
      "cell_type": "code",
      "metadata": {
        "id": "sanjEJbPIDOU"
      },
      "source": [
        "import numpy as np\n",
        "import matplotlib.pyplot as plt\n",
        "\n",
        "%matplotlib inline\n",
        "\n",
        "alpha,beta, chi, delta, psi, sigma = 0.4, 0.9494, 0.1998, 0.08, 2, 4"
      ],
      "execution_count": 3,
      "outputs": []
    },
    {
      "cell_type": "code",
      "metadata": {
        "id": "cqyAbsGAM_v7",
        "outputId": "ee3c5f5a-f879-4e42-9dcf-c6fe349c61ea",
        "colab": {
          "base_uri": "https://localhost:8080/"
        }
      },
      "source": [
        "!pip install quantecon\n",
        "import quantecon as qe\n",
        "sigma_z, rho = 0.008, 0.96\n",
        "z_grid_size = 5\n",
        "z_proc = qe.markov.approximation.rouwenhorst(z_grid_size, 0, sigma_z, rho)\n",
        "z_grid = z_proc.state_values\n",
        "z_tran = z_proc.P"
      ],
      "execution_count": 2,
      "outputs": [
        {
          "output_type": "stream",
          "text": [
            "Collecting quantecon\n",
            "\u001b[?25l  Downloading https://files.pythonhosted.org/packages/5d/e3/4fd5f948de917036b5696347b28fa25da7bd7df995e4f9f42db1c3070eb8/quantecon-0.4.8-py3-none-any.whl (230kB)\n",
            "\r\u001b[K     |█▍                              | 10kB 17.4MB/s eta 0:00:01\r\u001b[K     |██▉                             | 20kB 1.6MB/s eta 0:00:01\r\u001b[K     |████▎                           | 30kB 2.3MB/s eta 0:00:01\r\u001b[K     |█████▊                          | 40kB 2.5MB/s eta 0:00:01\r\u001b[K     |███████▏                        | 51kB 1.9MB/s eta 0:00:01\r\u001b[K     |████████▌                       | 61kB 2.1MB/s eta 0:00:01\r\u001b[K     |██████████                      | 71kB 2.4MB/s eta 0:00:01\r\u001b[K     |███████████▍                    | 81kB 2.6MB/s eta 0:00:01\r\u001b[K     |████████████▉                   | 92kB 2.8MB/s eta 0:00:01\r\u001b[K     |██████████████▎                 | 102kB 2.7MB/s eta 0:00:01\r\u001b[K     |███████████████▋                | 112kB 2.7MB/s eta 0:00:01\r\u001b[K     |█████████████████               | 122kB 2.7MB/s eta 0:00:01\r\u001b[K     |██████████████████▌             | 133kB 2.7MB/s eta 0:00:01\r\u001b[K     |████████████████████            | 143kB 2.7MB/s eta 0:00:01\r\u001b[K     |█████████████████████▍          | 153kB 2.7MB/s eta 0:00:01\r\u001b[K     |██████████████████████▊         | 163kB 2.7MB/s eta 0:00:01\r\u001b[K     |████████████████████████▏       | 174kB 2.7MB/s eta 0:00:01\r\u001b[K     |█████████████████████████▋      | 184kB 2.7MB/s eta 0:00:01\r\u001b[K     |███████████████████████████     | 194kB 2.7MB/s eta 0:00:01\r\u001b[K     |████████████████████████████▌   | 204kB 2.7MB/s eta 0:00:01\r\u001b[K     |█████████████████████████████▉  | 215kB 2.7MB/s eta 0:00:01\r\u001b[K     |███████████████████████████████▎| 225kB 2.7MB/s eta 0:00:01\r\u001b[K     |████████████████████████████████| 235kB 2.7MB/s \n",
            "\u001b[?25hRequirement already satisfied: numpy in /usr/local/lib/python3.6/dist-packages (from quantecon) (1.18.5)\n",
            "Requirement already satisfied: requests in /usr/local/lib/python3.6/dist-packages (from quantecon) (2.23.0)\n",
            "Requirement already satisfied: sympy in /usr/local/lib/python3.6/dist-packages (from quantecon) (1.1.1)\n",
            "Requirement already satisfied: scipy>=1.0.0 in /usr/local/lib/python3.6/dist-packages (from quantecon) (1.4.1)\n",
            "Requirement already satisfied: numba>=0.38 in /usr/local/lib/python3.6/dist-packages (from quantecon) (0.48.0)\n",
            "Requirement already satisfied: certifi>=2017.4.17 in /usr/local/lib/python3.6/dist-packages (from requests->quantecon) (2020.6.20)\n",
            "Requirement already satisfied: idna<3,>=2.5 in /usr/local/lib/python3.6/dist-packages (from requests->quantecon) (2.10)\n",
            "Requirement already satisfied: urllib3!=1.25.0,!=1.25.1,<1.26,>=1.21.1 in /usr/local/lib/python3.6/dist-packages (from requests->quantecon) (1.24.3)\n",
            "Requirement already satisfied: chardet<4,>=3.0.2 in /usr/local/lib/python3.6/dist-packages (from requests->quantecon) (3.0.4)\n",
            "Requirement already satisfied: mpmath>=0.19 in /usr/local/lib/python3.6/dist-packages (from sympy->quantecon) (1.1.0)\n",
            "Requirement already satisfied: setuptools in /usr/local/lib/python3.6/dist-packages (from numba>=0.38->quantecon) (50.3.2)\n",
            "Requirement already satisfied: llvmlite<0.32.0,>=0.31.0dev0 in /usr/local/lib/python3.6/dist-packages (from numba>=0.38->quantecon) (0.31.0)\n",
            "Installing collected packages: quantecon\n",
            "Successfully installed quantecon-0.4.8\n"
          ],
          "name": "stdout"
        }
      ]
    },
    {
      "cell_type": "markdown",
      "metadata": {
        "id": "OzQ_i4VebA4r"
      },
      "source": [
        "Utility Function and Optimal Choice of Labor"
      ]
    },
    {
      "cell_type": "code",
      "metadata": {
        "id": "oohJtAnPTmwp"
      },
      "source": [
        "def u(c, n):\n",
        "    \"\"\"\n",
        "    Utility function\n",
        "    \"\"\"\n",
        "    return (c**(1 - sigma) - 1) / (1 - sigma) - chi * n ** (1 + psi) / (1 + psi)\n",
        "\n",
        "def f(k,n,z_index):\n",
        "    \"\"\"\n",
        "    Production Function\n",
        "    \"\"\"\n",
        "    return np.exp(z_grid[z_index])*(k**alpha)*(n**(1-alpha))\n",
        "\n",
        "def n_star(k, k_new, z_index):\n",
        "    \"\"\"\n",
        "    Optimal Choice of Labor\n",
        "    u_star : Optimized Utility\n",
        "    n_opt : Optimizing Labor\n",
        "    \"\"\"\n",
        "    n = np.linspace(1e-3, 3, 300)\n",
        "    n_greedy = np.empty_like(n)\n",
        "    for i in range(len(n)):\n",
        "      if np.exp(z_grid[z_index])*k**alpha*n[i]**(1-alpha)-k_new+(1-delta)*k >= 0:\n",
        "        n_greedy[i] = u(f(k,n[i],z_index)-k_new+(1-delta)*k, n[i])\n",
        "      else:\n",
        "        n_greedy[i] = -100000\n",
        "    u_star = np.max(n_greedy)\n",
        "    n_opt = np.argmax(n_greedy)\n",
        "\n",
        "    return  u_star, n[n_opt]"
      ],
      "execution_count": 7,
      "outputs": []
    },
    {
      "cell_type": "markdown",
      "metadata": {
        "id": "3YFgur_vCG9s"
      },
      "source": [
        "Discretization"
      ]
    },
    {
      "cell_type": "code",
      "metadata": {
        "id": "d6_9qR8GemjU"
      },
      "source": [
        "grid_max = 10\n",
        "grid_size = 150\n",
        "k_grid = np.linspace(1e-3, grid_max, grid_size)"
      ],
      "execution_count": 8,
      "outputs": []
    },
    {
      "cell_type": "markdown",
      "metadata": {
        "id": "eXZALeY_DGDh"
      },
      "source": [
        "Precomputing Optimal Labor"
      ]
    },
    {
      "cell_type": "code",
      "metadata": {
        "id": "zBs8ufLTDFC5"
      },
      "source": [
        "u_opt = np.zeros([grid_size, grid_size, z_grid_size])\n",
        "n_opt = np.zeros([grid_size, grid_size, z_grid_size])\n",
        "\n",
        "for i1 in range(grid_size):\n",
        "  for i2 in range(grid_size):\n",
        "    for i3 in range(z_grid_size):\n",
        "      u_opt[i1, i2, i3], n_opt[i1, i2, i3] = n_star(k_grid[i1], k_grid[i2], i3)"
      ],
      "execution_count": 9,
      "outputs": []
    },
    {
      "cell_type": "markdown",
      "metadata": {
        "id": "FqcQhQMDa6HY"
      },
      "source": [
        "Growth Model"
      ]
    },
    {
      "cell_type": "code",
      "metadata": {
        "id": "TUhJil7Ya7Lh"
      },
      "source": [
        "class OptimalGrowthModel:\n",
        "\n",
        "    def __init__(self,\n",
        "                 u,            # utility function\n",
        "                 f,            # production function\n",
        "                 β=beta,       # discount factor\n",
        "                 grid_max=grid_max,\n",
        "                 grid_size=grid_size,\n",
        "                 ):\n",
        "\n",
        "        self.u, self.f, self.β = u, f, β\n",
        "\n",
        "        # Set up grid\n",
        "        self.grid = np.linspace(1e-3, grid_max, grid_size)\n",
        "\n",
        "    def state_action_value(self, k_index, k_new_index, z_index, v_array):\n",
        "        \"\"\"\n",
        "        Right hand side of the Bellman equation.\n",
        "        \"\"\"\n",
        "\n",
        "        u, f, β = self.u, self.f, self.β\n",
        "        u_val = u_opt[k_index, k_new_index, z_index]\n",
        "        \n",
        "        return u_val + β * np.sum(v_array[k_new_index, :] * z_tran[z_index,:])"
      ],
      "execution_count": 10,
      "outputs": []
    },
    {
      "cell_type": "markdown",
      "metadata": {
        "id": "pPyw54p_cMuI"
      },
      "source": [
        "Bellman Operator"
      ]
    },
    {
      "cell_type": "code",
      "metadata": {
        "id": "qNJvLec7IEJY"
      },
      "source": [
        "def T(v, og):\n",
        "    \"\"\"\n",
        "    The Bellman operator.  Updates the guess of the value function\n",
        "    and also computes a v-greedy policy.\n",
        "\n",
        "      * og is an instance of OptimalGrowthModel\n",
        "      * v is an array representing a guess of the value function\n",
        "\n",
        "    \"\"\"\n",
        "    v_new = np.empty_like(v)\n",
        "\n",
        "    for i1 in range(len(og.grid)):\n",
        "      for i3 in range(len(z_grid)):\n",
        "        v_greedy = np.zeros(len(og.grid))\n",
        "        for i2 in range(len(og.grid)):\n",
        "          v_greedy[i2] = og.state_action_value(i1, i2, i3, v)\n",
        "        v_new[i1, i3] = np.max(v_greedy)\n",
        "\n",
        "    return v_new"
      ],
      "execution_count": 11,
      "outputs": []
    },
    {
      "cell_type": "markdown",
      "metadata": {
        "id": "ZIHflhOkM_CM"
      },
      "source": [
        "Value Function Iteration"
      ]
    },
    {
      "cell_type": "code",
      "metadata": {
        "id": "rRjv_AKAFUEA"
      },
      "source": [
        "def solve_model(og,\n",
        "                tol=1e-4,\n",
        "                max_iter=1000,\n",
        "                verbose=True,\n",
        "                print_skip=25):\n",
        "    \"\"\"\n",
        "    Solve model by iterating with the Bellman operator.\n",
        "\n",
        "    \"\"\"\n",
        "\n",
        "    # Set up loop\n",
        "    v = np.zeros((grid_size, len(z_grid)))  # Initial condition\n",
        "    i = 0\n",
        "    error = tol + 1\n",
        "\n",
        "    while i < max_iter and error > tol:\n",
        "        v_new = T(v, og)\n",
        "        error = np.max(np.abs(v - v_new))\n",
        "        i += 1\n",
        "        if verbose and i % print_skip == 0:\n",
        "            print(f\"Error at iteration {i} is {error}.\")\n",
        "        v = v_new\n",
        "\n",
        "    if i == max_iter:\n",
        "        print(\"Failed to converge!\")\n",
        "\n",
        "    if verbose and i < max_iter:\n",
        "        print(f\"\\nConverged in {i} iterations.\")\n",
        "\n",
        "    return  v_new"
      ],
      "execution_count": 12,
      "outputs": []
    },
    {
      "cell_type": "markdown",
      "metadata": {
        "id": "kbbG8yivqPFm"
      },
      "source": [
        "Finding Policy Function"
      ]
    },
    {
      "cell_type": "code",
      "metadata": {
        "id": "34kzE2pimjvE"
      },
      "source": [
        "def policy(v, og):\n",
        "  \"\"\" \n",
        "  Get policy functions using the obtained value function\n",
        "  \"\"\"\n",
        "\n",
        "  k_function = np.empty_like(v)\n",
        "  n_function = np.empty_like(v)\n",
        "\n",
        "  for i1 in range(len(og.grid)):\n",
        "    for i3 in range(len(z_grid)):\n",
        "      v_greedy = np.zeros(len(og.grid))\n",
        "      for i2 in range(len(og.grid)):\n",
        "        v_greedy[i2] = og.state_action_value(i1, i2, i3, v)\n",
        "      \n",
        "      k_function[i1, i3] = np.min(np.argmax(v_greedy))\n",
        "      n_function[i1, i3] = n_opt[i1, k_function[i1, i3].astype(int), i3]  \n",
        "\n",
        "  return k_function, n_function"
      ],
      "execution_count": 13,
      "outputs": []
    },
    {
      "cell_type": "markdown",
      "metadata": {
        "id": "nA2Npts_r3Bw"
      },
      "source": [
        "Implementation"
      ]
    },
    {
      "cell_type": "code",
      "metadata": {
        "id": "sQfvu1idr3hb",
        "outputId": "59a53d29-e09b-4dd9-e617-fa0141d844f4",
        "colab": {
          "base_uri": "https://localhost:8080/"
        }
      },
      "source": [
        "og = OptimalGrowthModel(u = u, f = f)\n",
        "v = solve_model(og)\n",
        "k_function, n_function = policy(v, og)"
      ],
      "execution_count": 14,
      "outputs": [
        {
          "output_type": "stream",
          "text": [
            "Error at iteration 25 is 39.12033290033651.\n",
            "Error at iteration 50 is 0.011483735899871839.\n",
            "Error at iteration 75 is 0.003025062786929489.\n",
            "Error at iteration 100 is 0.0008170842302730463.\n",
            "Error at iteration 125 is 0.00022218138252316777.\n",
            "\n",
            "Converged in 141 iterations.\n"
          ],
          "name": "stdout"
        }
      ]
    },
    {
      "cell_type": "markdown",
      "metadata": {
        "id": "49TV7K9An2kd"
      },
      "source": [
        "# Problem *7*"
      ]
    },
    {
      "cell_type": "markdown",
      "metadata": {
        "id": "Q8nYvb8cKH3S"
      },
      "source": [
        "Generating TFP"
      ]
    },
    {
      "cell_type": "code",
      "metadata": {
        "id": "1iXQnqAwn4gg"
      },
      "source": [
        "np.random.seed(1234)\n",
        "mc = qe.MarkovChain(z_tran)\n",
        "X = mc.simulate(ts_length=1000)"
      ],
      "execution_count": 25,
      "outputs": []
    },
    {
      "cell_type": "markdown",
      "metadata": {
        "id": "EnrfR29NaRJ-"
      },
      "source": [
        "Steady State"
      ]
    },
    {
      "cell_type": "code",
      "metadata": {
        "id": "mIYqtNWHaTrL",
        "outputId": "3d1c7c5b-40dc-4300-99e2-3e464d423145",
        "colab": {
          "base_uri": "https://localhost:8080/"
        }
      },
      "source": [
        "c = ((1 - beta * (1 - alpha)) / (alpha * beta))**(1/(1-alpha))\n",
        "k_star = ((1 - alpha * (c **(1-alpha) - delta)**(-sigma)) / (chi * c ** psi))**(1/(psi + sigma - alpha))\n",
        "n_star = c * k_star\n",
        "i_star = delta * k_star\n",
        "y_star = k_star ** alpha * n_star ** (1 - alpha)\n",
        "c_star = y_star - i_star\n",
        "print(k_star)\n",
        "print(n_star)\n",
        "print(i_star)\n",
        "print(y_star)\n",
        "print(c_star)"
      ],
      "execution_count": 16,
      "outputs": [
        {
          "output_type": "stream",
          "text": [
            "1.153643897933784\n",
            "1.421050701958927\n",
            "0.09229151183470272\n",
            "1.3073577731061279\n",
            "1.2150662612714251\n"
          ],
          "name": "stdout"
        }
      ]
    },
    {
      "cell_type": "markdown",
      "metadata": {
        "id": "Cf_t_iNyMPNo"
      },
      "source": [
        "Simulation"
      ]
    },
    {
      "cell_type": "code",
      "metadata": {
        "id": "-3C02VWcKN-Y"
      },
      "source": [
        "k_0_index = 11  #near k_star\n",
        "results = np.zeros((6, len(X)+1))\n",
        "results[1, 0] = k_0_index \n",
        "\"\"\"\n",
        "1st row : value / 2nd row : capital_index / 3rd row : consumption / 4rd row : investment \n",
        "5th row : output / 6 th row: hours worked\n",
        "\"\"\"\n",
        "for i in range(len(X)):\n",
        "  results[0, i] = v[results[1, i].astype(int), X[i]]\n",
        "  results[1, i+1] = k_function[results[1, i].astype(int), X[i]]\n",
        "  results[5, i] = n_function[results[1, i].astype(int), X[i]]\n",
        "  results[4, i] = f(k_grid[results[1, i].astype(int)], results[5, i], X[i])\n",
        "  results[2, i] = results[4, i] - k_grid[results[1, i+1].astype(int)] + (1-delta) * k_grid[results[1, i].astype(int)]\n",
        "  results[3, i] = results[4, i] - results[2, i]\n",
        "\n",
        "results = np.delete(results, len(X), 1)"
      ],
      "execution_count": 26,
      "outputs": []
    },
    {
      "cell_type": "markdown",
      "metadata": {
        "id": "6VAeGOrOoioX"
      },
      "source": [
        "Plotting"
      ]
    },
    {
      "cell_type": "code",
      "metadata": {
        "id": "N-Ju_S3SoiPQ",
        "outputId": "c3ad6408-fbe6-4ef7-f165-76fd5ead0115",
        "colab": {
          "base_uri": "https://localhost:8080/",
          "height": 281
        }
      },
      "source": [
        "fig, axs = plt.subplots(2, 3)\n",
        "axs[0, 0].plot(results[0,:])\n",
        "axs[0, 0].set_title('Value')\n",
        "axs[0, 1].plot(results[1,:]*(grid_max / grid_size), 'tab:orange')\n",
        "axs[0, 1].set_title('capital')\n",
        "axs[0, 2].plot(results[2,:], 'tab:green')\n",
        "axs[0, 2].set_title('consumption')\n",
        "axs[1, 0].plot(results[3,:])\n",
        "axs[1, 0].set_title('investment')\n",
        "axs[1, 1].plot(results[4,:], 'tab:blue')\n",
        "axs[1, 1].set_title('output')\n",
        "axs[1, 2].plot(results[5,:], 'tab:red')\n",
        "axs[1, 2].set_title('labor hour')\n",
        "\n",
        "# Hide x labels and tick labels for top plots and y ticks for right plots.\n",
        "for ax in axs.flat:\n",
        "    ax.label_outer()"
      ],
      "execution_count": 27,
      "outputs": [
        {
          "output_type": "display_data",
          "data": {
            "image/png": "[encoded data removed]",
            "text/plain": [
              "<Figure size 432x288 with 6 Axes>"
            ]
          },
          "metadata": {
            "tags": [],
            "needs_background": "light"
          }
        }
      ]
    },
    {
      "cell_type": "markdown",
      "metadata": {
        "id": "IpjOHVOlpuDo"
      },
      "source": [
        "Problem *b*"
      ]
    },
    {
      "cell_type": "code",
      "metadata": {
        "id": "2OuAVIn1KOrf",
        "outputId": "ddceec4f-374d-4b7f-9241-7af68529cde1",
        "colab": {
          "base_uri": "https://localhost:8080/",
          "height": 281
        }
      },
      "source": [
        "results = np.delete(results, np.arange(200), 1)\n",
        "fig, axs = plt.subplots(2, 3)\n",
        "axs[0, 0].plot(results[0,:])\n",
        "axs[0, 0].set_title('Value')\n",
        "axs[0, 1].plot(results[1,:]*(grid_max / grid_size), 'tab:orange')\n",
        "axs[0, 1].set_title('capital')\n",
        "axs[0, 2].plot(results[2,:], 'tab:green')\n",
        "axs[0, 2].set_title('consumption')\n",
        "axs[1, 0].plot(results[3,:])\n",
        "axs[1, 0].set_title('investment')\n",
        "axs[1, 1].plot(results[4,:], 'tab:blue')\n",
        "axs[1, 1].set_title('output')\n",
        "axs[1, 2].plot(results[5,:], 'tab:red')\n",
        "axs[1, 2].set_title('labor hour')\n",
        "\n",
        "# Hide x labels and tick labels for top plots and y ticks for right plots.\n",
        "for ax in axs.flat:\n",
        "    ax.label_outer()"
      ],
      "execution_count": 19,
      "outputs": [
        {
          "output_type": "display_data",
          "data": {
            "image/png": "[encoded data removed]",
            "text/plain": [
              "<Figure size 432x288 with 6 Axes>"
            ]
          },
          "metadata": {
            "tags": [],
            "needs_background": "light"
          }
        }
      ]
    },
    {
      "cell_type": "code",
      "metadata": {
        "id": "x3PzIuPJU9X_",
        "outputId": "ae56d856-9224-4c8d-a405-60348a043073",
        "colab": {
          "base_uri": "https://localhost:8080/"
        }
      },
      "source": [
        "print(\"Captital : Steady state = \", k_star, \"Model =\", np.mean(results[1,:])*(grid_max / grid_size))\n",
        "print(\"Consumption : Steady state = \", c_star, \"Model =\", np.mean(results[2,:]))\n",
        "print(\"Investment : Steady state = \", i_star, \"Model =\", np.mean(results[3,:]))\n",
        "print(\"Output : Steady state = \", y_star, \"Model =\", np.mean(results[4,:]))\n",
        "print(\"Hours worked : Steady state = \", n_star, \"Model =\", np.mean(results[5,:]))"
      ],
      "execution_count": 20,
      "outputs": [
        {
          "output_type": "stream",
          "text": [
            "Captital : Steady state =  1.153643897933784 Model = 6.229666666666666\n",
            "Consumption : Steady state =  1.2150662612714251 Model = 1.5835372419709275\n",
            "Investment : Steady state =  0.09229151183470272 Model = 0.5013285278523485\n",
            "Output : Steady state =  1.3073577731061279 Model = 2.084865769823276\n",
            "Hours worked : Steady state =  1.421050701958927 Model = 0.9997973913043476\n"
          ],
          "name": "stdout"
        }
      ]
    },
    {
      "cell_type": "markdown",
      "metadata": {
        "id": "jka_p8fjr_ET"
      },
      "source": [
        "Problem *c*"
      ]
    },
    {
      "cell_type": "code",
      "metadata": {
        "id": "PEOhwS5fWgse",
        "outputId": "2a818056-5035-4855-d41c-03b53bcbca23",
        "colab": {
          "base_uri": "https://localhost:8080/"
        }
      },
      "source": [
        "print(\"Output:\")\n",
        "print(\"    Standard Deviation:\")\n",
        "print(\"  Data : 1.70 / Model : \", np.std(results[4,:]))\n",
        "print(\"Consumption:\")\n",
        "print(\"    Standard Deviation:\")\n",
        "print(\"  Data : 0.80 / Model : \", np.std(results[2,:]))\n",
        "print(\"Investment:\")\n",
        "print(\"    Standard Deviation:\")\n",
        "print(\"  Data : 6.49 / Model : \", np.std(results[3,:]))\n",
        "print(\"Hours worked:\")\n",
        "print(\"    Standard Deviation:\")\n",
        "print(\"  Data : 1.69 / Model : \", np.std(results[5,:]))"
      ],
      "execution_count": 21,
      "outputs": [
        {
          "output_type": "stream",
          "text": [
            "Output:\n",
            "    Standard Deviation:\n",
            "  Data : 1.70 / Model :  0.05592240920407306\n",
            "Consumption:\n",
            "    Standard Deviation:\n",
            "  Data : 0.80 / Model :  0.03488071626222736\n",
            "Investment:\n",
            "    Standard Deviation:\n",
            "  Data : 6.49 / Model :  0.026461469527881448\n",
            "Hours worked:\n",
            "    Standard Deviation:\n",
            "  Data : 1.69 / Model :  0.02175306553719596\n"
          ],
          "name": "stdout"
        }
      ]
    },
    {
      "cell_type": "code",
      "metadata": {
        "id": "dSCINxa4s0Uc",
        "outputId": "4b723866-679f-4d7f-8c97-a0aff2624e91",
        "colab": {
          "base_uri": "https://localhost:8080/"
        }
      },
      "source": [
        "print(\"Output:\")\n",
        "print(\"    Standard Deviation :\")\n",
        "print(\"  Data : 1 / Model : \", 1)\n",
        "print(\"Consumption:\")\n",
        "print(\"    Ratio of Standard Deviation to Output Standard Deviation:\")\n",
        "print(\"  Data : 0.47 / Model : \", np.std(results[2,:])/np.std(results[4,:]))\n",
        "print(\"Investment:\")\n",
        "print(\"    Ratio of Standard Deviation to Output Standard Deviation:\")\n",
        "print(\"  Data : 3.83 / Model : \", np.std(results[3,:])/np.std(results[4,:]))\n",
        "print(\"Hours worked:\")\n",
        "print(\"    Ratio of Standard Deviation to Output Standard Deviation:\")\n",
        "print(\"  Data : 1.00 / Model : \", np.std(results[5,:])/np.std(results[4,:]))"
      ],
      "execution_count": 22,
      "outputs": [
        {
          "output_type": "stream",
          "text": [
            "Output:\n",
            "    Standard Deviation :\n",
            "  Data : 1 / Model :  1\n",
            "Consumption:\n",
            "    Ratio of Standard Deviation to Output Standard Deviation:\n",
            "  Data : 0.47 / Model :  0.6237341480575348\n",
            "Investment:\n",
            "    Ratio of Standard Deviation to Output Standard Deviation:\n",
            "  Data : 3.83 / Model :  0.47318185865916074\n",
            "Hours worked:\n",
            "    Ratio of Standard Deviation to Output Standard Deviation:\n",
            "  Data : 1.00 / Model :  0.3889865591772751\n"
          ],
          "name": "stdout"
        }
      ]
    }
  ]
}