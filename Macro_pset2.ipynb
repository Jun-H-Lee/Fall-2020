{
  "nbformat": 4,
  "nbformat_minor": 0,
  "metadata": {
    "colab": {
      "name": "Macro_pset2.ipynb",
      "provenance": [],
      "authorship_tag": "ABX9TyM+NK6JTstzzB1K42P7TYPK",
      "include_colab_link": true
    },
    "kernelspec": {
      "name": "python3",
      "display_name": "Python 3"
    }
  },
  "cells": [
    {
      "cell_type": "markdown",
      "metadata": {
        "id": "view-in-github",
        "colab_type": "text"
      },
      "source": [
        "<a href=\"https://colab.research.google.com/github/Jun-H-Lee/Fall-2020/blob/main/Macro_pset2.ipynb\" target=\"_parent\"><img src=\"https://colab.research.google.com/assets/colab-badge.svg\" alt=\"Open In Colab\"/></a>"
      ]
    },
    {
      "cell_type": "markdown",
      "metadata": {
        "id": "h021nuruM9ab"
      },
      "source": [
        "# Problem 6"
      ]
    },
    {
      "cell_type": "markdown",
      "metadata": {
        "id": "_xQInPe1IDqm"
      },
      "source": [
        "Parameters"
      ]
    },
    {
      "cell_type": "code",
      "metadata": {
        "id": "sanjEJbPIDOU"
      },
      "source": [
        "import numpy as np\n",
        "\n",
        "import matplotlib.pyplot as plt\n",
        "\n",
        "%matplotlib inline\n",
        "\n",
        "alpha, beta, chi, delta, psi, sigma = 0.4, 0.9494, 1, 0.08, 0.1, 0.8"
      ],
      "execution_count": null,
      "outputs": []
    },
    {
      "cell_type": "code",
      "metadata": {
        "id": "cqyAbsGAM_v7",
        "colab": {
          "base_uri": "https://localhost:8080/"
        },
        "outputId": "38a4ee5e-892c-4fc9-ede9-05ff2469ccc2"
      },
      "source": [
        "!pip install quantecon\n",
        "import quantecon as qe\n",
        "sigma_z, rho = 0.008, 0.96\n",
        "z_grid_size = 5\n",
        "z_proc = qe.markov.approximation.rouwenhorst(z_grid_size, 0, sigma_z, rho)\n",
        "z_grid = z_proc.state_values\n",
        "z_tran = z_proc.P"
      ],
      "execution_count": null,
      "outputs": [
        {
          "output_type": "stream",
          "text": [
            "Collecting quantecon\n",
            "\u001b[?25l  Downloading https://files.pythonhosted.org/packages/5d/e3/4fd5f948de917036b5696347b28fa25da7bd7df995e4f9f42db1c3070eb8/quantecon-0.4.8-py3-none-any.whl (230kB)\n",
            "\r\u001b[K     |█▍                              | 10kB 17.7MB/s eta 0:00:01\r\u001b[K     |██▉                             | 20kB 20.7MB/s eta 0:00:01\r\u001b[K     |████▎                           | 30kB 12.5MB/s eta 0:00:01\r\u001b[K     |█████▊                          | 40kB 9.2MB/s eta 0:00:01\r\u001b[K     |███████▏                        | 51kB 4.5MB/s eta 0:00:01\r\u001b[K     |████████▌                       | 61kB 5.2MB/s eta 0:00:01\r\u001b[K     |██████████                      | 71kB 5.3MB/s eta 0:00:01\r\u001b[K     |███████████▍                    | 81kB 5.9MB/s eta 0:00:01\r\u001b[K     |████████████▉                   | 92kB 5.5MB/s eta 0:00:01\r\u001b[K     |██████████████▎                 | 102kB 6.0MB/s eta 0:00:01\r\u001b[K     |███████████████▋                | 112kB 6.0MB/s eta 0:00:01\r\u001b[K     |█████████████████               | 122kB 6.0MB/s eta 0:00:01\r\u001b[K     |██████████████████▌             | 133kB 6.0MB/s eta 0:00:01\r\u001b[K     |████████████████████            | 143kB 6.0MB/s eta 0:00:01\r\u001b[K     |█████████████████████▍          | 153kB 6.0MB/s eta 0:00:01\r\u001b[K     |██████████████████████▊         | 163kB 6.0MB/s eta 0:00:01\r\u001b[K     |████████████████████████▏       | 174kB 6.0MB/s eta 0:00:01\r\u001b[K     |█████████████████████████▋      | 184kB 6.0MB/s eta 0:00:01\r\u001b[K     |███████████████████████████     | 194kB 6.0MB/s eta 0:00:01\r\u001b[K     |████████████████████████████▌   | 204kB 6.0MB/s eta 0:00:01\r\u001b[K     |█████████████████████████████▉  | 215kB 6.0MB/s eta 0:00:01\r\u001b[K     |███████████████████████████████▎| 225kB 6.0MB/s eta 0:00:01\r\u001b[K     |████████████████████████████████| 235kB 6.0MB/s \n",
            "\u001b[?25hRequirement already satisfied: numpy in /usr/local/lib/python3.6/dist-packages (from quantecon) (1.18.5)\n",
            "Requirement already satisfied: numba>=0.38 in /usr/local/lib/python3.6/dist-packages (from quantecon) (0.48.0)\n",
            "Requirement already satisfied: sympy in /usr/local/lib/python3.6/dist-packages (from quantecon) (1.1.1)\n",
            "Requirement already satisfied: requests in /usr/local/lib/python3.6/dist-packages (from quantecon) (2.23.0)\n",
            "Requirement already satisfied: scipy>=1.0.0 in /usr/local/lib/python3.6/dist-packages (from quantecon) (1.4.1)\n",
            "Requirement already satisfied: llvmlite<0.32.0,>=0.31.0dev0 in /usr/local/lib/python3.6/dist-packages (from numba>=0.38->quantecon) (0.31.0)\n",
            "Requirement already satisfied: setuptools in /usr/local/lib/python3.6/dist-packages (from numba>=0.38->quantecon) (50.3.2)\n",
            "Requirement already satisfied: mpmath>=0.19 in /usr/local/lib/python3.6/dist-packages (from sympy->quantecon) (1.1.0)\n",
            "Requirement already satisfied: certifi>=2017.4.17 in /usr/local/lib/python3.6/dist-packages (from requests->quantecon) (2020.11.8)\n",
            "Requirement already satisfied: urllib3!=1.25.0,!=1.25.1,<1.26,>=1.21.1 in /usr/local/lib/python3.6/dist-packages (from requests->quantecon) (1.24.3)\n",
            "Requirement already satisfied: idna<3,>=2.5 in /usr/local/lib/python3.6/dist-packages (from requests->quantecon) (2.10)\n",
            "Requirement already satisfied: chardet<4,>=3.0.2 in /usr/local/lib/python3.6/dist-packages (from requests->quantecon) (3.0.4)\n",
            "Installing collected packages: quantecon\n",
            "Successfully installed quantecon-0.4.8\n"
          ],
          "name": "stdout"
        }
      ]
    },
    {
      "cell_type": "markdown",
      "metadata": {
        "id": "OzQ_i4VebA4r"
      },
      "source": [
        "Utility Function and Optimal Choice of Labor"
      ]
    },
    {
      "cell_type": "code",
      "metadata": {
        "id": "oohJtAnPTmwp"
      },
      "source": [
        "def u(c, n):\n",
        "    \"\"\"\n",
        "    Utility function\n",
        "    \"\"\"\n",
        "    return (c**(1 - sigma) - 1) / (1 - sigma) - chi * n ** (1 + psi) / (1 + psi)\n",
        "\n",
        "def f(k,n,z_index):\n",
        "    \"\"\"\n",
        "    Production Function\n",
        "    \"\"\"\n",
        "    return np.exp(z_grid[z_index])*(k**alpha)*(n**(1-alpha))\n",
        "\n",
        "def n_star(k, k_new, z_index):\n",
        "    \"\"\"\n",
        "    Optimal Choice of Labor\n",
        "    u_star : Optimized Utility\n",
        "    n_opt : Optimizing Labor\n",
        "    \"\"\"\n",
        "    n = np.linspace(1e-3, 3, 300)\n",
        "    n_greedy = np.empty_like(n)\n",
        "    for i in range(len(n)):\n",
        "      if np.exp(z_grid[z_index])*k**alpha*n[i]**(1-alpha)-k_new+(1-delta)*k >= 0:\n",
        "        n_greedy[i] = u(f(k,n[i],z_index)-k_new+(1-delta)*k, n[i])\n",
        "      else:\n",
        "        n_greedy[i] = -100000\n",
        "    u_star = np.max(n_greedy)\n",
        "    n_opt = np.argmax(n_greedy)\n",
        "\n",
        "    return  u_star, n[n_opt]"
      ],
      "execution_count": null,
      "outputs": []
    },
    {
      "cell_type": "markdown",
      "metadata": {
        "id": "3YFgur_vCG9s"
      },
      "source": [
        "Discretization"
      ]
    },
    {
      "cell_type": "code",
      "metadata": {
        "id": "d6_9qR8GemjU"
      },
      "source": [
        "grid_max = 10\n",
        "grid_size = 150\n",
        "k_grid = np.linspace(1e-3, grid_max, grid_size)"
      ],
      "execution_count": null,
      "outputs": []
    },
    {
      "cell_type": "markdown",
      "metadata": {
        "id": "eXZALeY_DGDh"
      },
      "source": [
        "Precomputing Optimal Labor"
      ]
    },
    {
      "cell_type": "code",
      "metadata": {
        "id": "zBs8ufLTDFC5"
      },
      "source": [
        "u_opt = np.zeros([grid_size, grid_size, z_grid_size])\n",
        "n_opt = np.zeros([grid_size, grid_size, z_grid_size])\n",
        "\n",
        "for i1 in range(grid_size):\n",
        "  for i2 in range(grid_size):\n",
        "    for i3 in range(z_grid_size):\n",
        "      u_opt[i1, i2, i3], n_opt[i1, i2, i3] = n_star(k_grid[i1], k_grid[i2], i3)"
      ],
      "execution_count": null,
      "outputs": []
    },
    {
      "cell_type": "markdown",
      "metadata": {
        "id": "FqcQhQMDa6HY"
      },
      "source": [
        "Growth Model"
      ]
    },
    {
      "cell_type": "code",
      "metadata": {
        "id": "TUhJil7Ya7Lh"
      },
      "source": [
        "class OptimalGrowthModel:\n",
        "\n",
        "    def __init__(self,\n",
        "                 u,            # utility function\n",
        "                 f,            # production function\n",
        "                 β=beta,       # discount factor\n",
        "                 grid_max=grid_max,\n",
        "                 grid_size=grid_size,\n",
        "                 ):\n",
        "\n",
        "        self.u, self.f, self.β = u, f, β\n",
        "\n",
        "        # Set up grid\n",
        "        self.grid = np.linspace(1e-3, grid_max, grid_size)\n",
        "\n",
        "    def state_action_value(self, k_index, k_new_index, z_index, v_array):\n",
        "        \"\"\"\n",
        "        Right hand side of the Bellman equation.\n",
        "        \"\"\"\n",
        "\n",
        "        u, f, β = self.u, self.f, self.β\n",
        "        u_val = u_opt[k_index, k_new_index, z_index]\n",
        "        \n",
        "        return u_val + β * np.sum(v_array[k_new_index, :] * z_tran[z_index,:])"
      ],
      "execution_count": null,
      "outputs": []
    },
    {
      "cell_type": "markdown",
      "metadata": {
        "id": "pPyw54p_cMuI"
      },
      "source": [
        "Bellman Operator"
      ]
    },
    {
      "cell_type": "code",
      "metadata": {
        "id": "qNJvLec7IEJY"
      },
      "source": [
        "def T(v, og):\n",
        "    \"\"\"\n",
        "    The Bellman operator.  Updates the guess of the value function\n",
        "    and also computes a v-greedy policy.\n",
        "\n",
        "      * og is an instance of OptimalGrowthModel\n",
        "      * v is an array representing a guess of the value function\n",
        "\n",
        "    \"\"\"\n",
        "    v_new = np.empty_like(v)\n",
        "\n",
        "    for i1 in range(len(og.grid)):\n",
        "      for i3 in range(len(z_grid)):\n",
        "        v_greedy = np.zeros(len(og.grid))\n",
        "        for i2 in range(len(og.grid)):\n",
        "          v_greedy[i2] = og.state_action_value(i1, i2, i3, v)\n",
        "        v_new[i1, i3] = np.max(v_greedy)\n",
        "\n",
        "    return v_new"
      ],
      "execution_count": null,
      "outputs": []
    },
    {
      "cell_type": "markdown",
      "metadata": {
        "id": "ZIHflhOkM_CM"
      },
      "source": [
        "Value Function Iteration"
      ]
    },
    {
      "cell_type": "code",
      "metadata": {
        "id": "rRjv_AKAFUEA"
      },
      "source": [
        "def solve_model(og,\n",
        "                tol=1e-4,\n",
        "                max_iter=1000,\n",
        "                verbose=True,\n",
        "                print_skip=25):\n",
        "    \"\"\"\n",
        "    Solve model by iterating with the Bellman operator.\n",
        "\n",
        "    \"\"\"\n",
        "\n",
        "    # Set up loop\n",
        "    v = np.zeros((grid_size, len(z_grid)))  # Initial condition\n",
        "    i = 0\n",
        "    error = tol + 1\n",
        "\n",
        "    while i < max_iter and error > tol:\n",
        "        v_new = T(v, og)\n",
        "        error = np.max(np.abs(v - v_new))\n",
        "        i += 1\n",
        "        if verbose and i % print_skip == 0:\n",
        "            print(f\"Error at iteration {i} is {error}.\")\n",
        "        v = v_new\n",
        "\n",
        "    if i == max_iter:\n",
        "        print(\"Failed to converge!\")\n",
        "\n",
        "    if verbose and i < max_iter:\n",
        "        print(f\"\\nConverged in {i} iterations.\")\n",
        "\n",
        "    return  v_new"
      ],
      "execution_count": null,
      "outputs": []
    },
    {
      "cell_type": "markdown",
      "metadata": {
        "id": "kbbG8yivqPFm"
      },
      "source": [
        "Finding Policy Function"
      ]
    },
    {
      "cell_type": "code",
      "metadata": {
        "id": "34kzE2pimjvE"
      },
      "source": [
        "def policy(v, og):\n",
        "  \"\"\" \n",
        "  Get policy functions using the obtained value function\n",
        "  \"\"\"\n",
        "\n",
        "  k_function = np.empty_like(v)\n",
        "  n_function = np.empty_like(v)\n",
        "\n",
        "  for i1 in range(len(og.grid)):\n",
        "    for i3 in range(len(z_grid)):\n",
        "      v_greedy = np.zeros(len(og.grid))\n",
        "      for i2 in range(len(og.grid)):\n",
        "        v_greedy[i2] = og.state_action_value(i1, i2, i3, v)\n",
        "      \n",
        "      k_function[i1, i3] = np.min(np.argmax(v_greedy))\n",
        "      n_function[i1, i3] = n_opt[i1, k_function[i1, i3].astype(int), i3]  \n",
        "\n",
        "  return k_function, n_function"
      ],
      "execution_count": null,
      "outputs": []
    },
    {
      "cell_type": "markdown",
      "metadata": {
        "id": "nA2Npts_r3Bw"
      },
      "source": [
        "Implementation"
      ]
    },
    {
      "cell_type": "code",
      "metadata": {
        "id": "sQfvu1idr3hb",
        "colab": {
          "base_uri": "https://localhost:8080/"
        },
        "outputId": "931352f1-87a3-4752-ae59-e78a14401805"
      },
      "source": [
        "og = OptimalGrowthModel(u = u, f = f)\n",
        "v = solve_model(og)\n",
        "k_function, n_function = policy(v, og)"
      ],
      "execution_count": null,
      "outputs": [
        {
          "output_type": "stream",
          "text": [
            "Error at iteration 25 is 0.21251615513643074.\n",
            "Error at iteration 50 is 0.05427161559129701.\n",
            "Error at iteration 75 is 0.014574255949238335.\n",
            "Error at iteration 100 is 0.0039556605969153225.\n",
            "Error at iteration 125 is 0.00107772858240196.\n",
            "Error at iteration 150 is 0.00029403609892497684.\n",
            "\n",
            "Converged in 171 iterations.\n"
          ],
          "name": "stdout"
        }
      ]
    },
    {
      "cell_type": "markdown",
      "metadata": {
        "id": "GRsAARusJwdt"
      },
      "source": [
        "Optimal Capital Choice"
      ]
    },
    {
      "cell_type": "code",
      "metadata": {
        "id": "vDui_mc0Jwy6",
        "colab": {
          "base_uri": "https://localhost:8080/",
          "height": 313
        },
        "outputId": "6fcb7698-1f6b-4824-e744-cb8e56e920fa"
      },
      "source": [
        "plt.plot(k_function[:,0], label = \"z = -0.05\")\n",
        "plt.plot(k_function[:,1], label = \"z = -0.02\")\n",
        "plt.plot(k_function[:,2], label = \"z =  0.00\")\n",
        "plt.plot(k_function[:,3], label = \"z =  0.02\")\n",
        "plt.plot(k_function[:,4], label = \"z =  0.05\")\n",
        "plt.legend()\n",
        "plt.title(\"Optimal Capital\")\n",
        "plt.xlabel(\"Capital\")\n",
        "plt.ylabel(\"Capital Choice\")"
      ],
      "execution_count": null,
      "outputs": [
        {
          "output_type": "execute_result",
          "data": {
            "text/plain": [
              "Text(0, 0.5, 'Capital Choice')"
            ]
          },
          "metadata": {
            "tags": []
          },
          "execution_count": 11
        },
        {
          "output_type": "display_data",
          "data": {
            "image/png": "[encoded data removed]",
            "text/plain": [
              "<Figure size 432x288 with 1 Axes>"
            ]
          },
          "metadata": {
            "tags": [],
            "needs_background": "light"
          }
        }
      ]
    },
    {
      "cell_type": "markdown",
      "metadata": {
        "id": "dn0c6pgAbsX_"
      },
      "source": [
        "Optimal Labor Choice"
      ]
    },
    {
      "cell_type": "code",
      "metadata": {
        "id": "JFCik-D9bvSX",
        "colab": {
          "base_uri": "https://localhost:8080/",
          "height": 313
        },
        "outputId": "475446ff-76f2-4337-d006-f0ad2bbebe9e"
      },
      "source": [
        "plt.plot(n_function[:,0], label = \"z = -0.05\")\n",
        "plt.plot(n_function[:,1], label = \"z = -0.02\")\n",
        "plt.plot(n_function[:,2], label = \"z =  0.00\")\n",
        "plt.plot(n_function[:,3], label = \"z =  0.02\")\n",
        "plt.plot(n_function[:,4], label = \"z =  0.05\")\n",
        "plt.legend()\n",
        "plt.title(\"Optimal Labor\")\n",
        "plt.xlabel(\"Capital\")\n",
        "plt.ylabel(\"Labor Choice\")"
      ],
      "execution_count": null,
      "outputs": [
        {
          "output_type": "execute_result",
          "data": {
            "text/plain": [
              "Text(0, 0.5, 'Labor Choice')"
            ]
          },
          "metadata": {
            "tags": []
          },
          "execution_count": 12
        },
        {
          "output_type": "display_data",
          "data": {
            "image/png": "[encoded data removed]",
            "text/plain": [
              "<Figure size 432x288 with 1 Axes>"
            ]
          },
          "metadata": {
            "tags": [],
            "needs_background": "light"
          }
        }
      ]
    },
    {
      "cell_type": "markdown",
      "metadata": {
        "id": "49TV7K9An2kd"
      },
      "source": [
        "# Problem *7*"
      ]
    },
    {
      "cell_type": "markdown",
      "metadata": {
        "id": "Q8nYvb8cKH3S"
      },
      "source": [
        "Generating TFP"
      ]
    },
    {
      "cell_type": "code",
      "metadata": {
        "id": "1iXQnqAwn4gg"
      },
      "source": [
        "np.random.seed(1234)\n",
        "mc = qe.MarkovChain(z_tran)\n",
        "X = mc.simulate(ts_length=1000)"
      ],
      "execution_count": null,
      "outputs": []
    },
    {
      "cell_type": "markdown",
      "metadata": {
        "id": "EnrfR29NaRJ-"
      },
      "source": [
        "Steady State"
      ]
    },
    {
      "cell_type": "code",
      "metadata": {
        "id": "mIYqtNWHaTrL",
        "colab": {
          "base_uri": "https://localhost:8080/"
        },
        "outputId": "f6d90460-83cc-4217-c95a-4980c629ef4e"
      },
      "source": [
        "c = ((1 - beta * (1 - alpha)) / (alpha * beta))**(1/(1-alpha))\n",
        "k_star = ((1 - alpha * (c **(1-alpha) - delta)**(-sigma)) / (chi * c ** psi))**(1/(psi + sigma - alpha))\n",
        "n_star = c * k_star\n",
        "i_star = delta * k_star\n",
        "y_star = k_star ** alpha * n_star ** (1 - alpha)\n",
        "c_star = y_star - i_star\n",
        "print(\"Steady state value of capital : \", k_star)\n",
        "print(\"Steady state value of labor : \",n_star)\n",
        "print(\"Steady state value of investment : \",i_star)\n",
        "print(\"Steady state value of output : \",y_star)\n",
        "print(\"Steady state value of consumption : \", c_star)"
      ],
      "execution_count": null,
      "outputs": [
        {
          "output_type": "stream",
          "text": [
            "Steady state value of capital :  0.36426709261010914\n",
            "Steady state value of labor :  0.44870172553354437\n",
            "Steady state value of investment :  0.02914136740880873\n",
            "Steady state value of output :  0.4128027859060631\n",
            "Steady state value of consumption :  0.3836614184972544\n"
          ],
          "name": "stdout"
        }
      ]
    },
    {
      "cell_type": "markdown",
      "metadata": {
        "id": "Cf_t_iNyMPNo"
      },
      "source": [
        "Simulation"
      ]
    },
    {
      "cell_type": "code",
      "metadata": {
        "id": "-3C02VWcKN-Y"
      },
      "source": [
        "k_0_index = 11  #near k_star\n",
        "results = np.zeros((6, len(X)+1))\n",
        "results[1, 0] = k_0_index \n",
        "\"\"\"\n",
        "1st row : value / 2nd row : capital_index / 3rd row : consumption / 4rd row : investment \n",
        "5th row : output / 6 th row: hours worked\n",
        "\"\"\"\n",
        "for i in range(len(X)):\n",
        "  results[0, i] = v[results[1, i].astype(int), X[i]]\n",
        "  results[1, i+1] = k_function[results[1, i].astype(int), X[i]]\n",
        "  results[5, i] = n_function[results[1, i].astype(int), X[i]]\n",
        "  results[4, i] = f(k_grid[results[1, i].astype(int)], results[5, i], X[i])\n",
        "  results[2, i] = results[4, i] - k_grid[results[1, i+1].astype(int)] + (1-delta) * k_grid[results[1, i].astype(int)]\n",
        "  results[3, i] = results[4, i] - results[2, i]\n",
        "\n",
        "results = np.delete(results, len(X), 1)"
      ],
      "execution_count": null,
      "outputs": []
    },
    {
      "cell_type": "markdown",
      "metadata": {
        "id": "6VAeGOrOoioX"
      },
      "source": [
        "Plotting"
      ]
    },
    {
      "cell_type": "code",
      "metadata": {
        "id": "N-Ju_S3SoiPQ",
        "colab": {
          "base_uri": "https://localhost:8080/",
          "height": 281
        },
        "outputId": "4b913612-532f-4527-804b-afd4307a775f"
      },
      "source": [
        "fig, axs = plt.subplots(2, 3)\n",
        "axs[0, 0].plot(results[0,:])\n",
        "axs[0, 0].set_title('Value')\n",
        "axs[0, 1].plot(results[1,:]*(grid_max / grid_size), 'tab:orange')\n",
        "axs[0, 1].set_title('capital')\n",
        "axs[0, 2].plot(results[2,:], 'tab:green')\n",
        "axs[0, 2].set_title('consumption')\n",
        "axs[1, 0].plot(results[3,:])\n",
        "axs[1, 0].set_title('investment')\n",
        "axs[1, 1].plot(results[4,:], 'tab:blue')\n",
        "axs[1, 1].set_title('output')\n",
        "axs[1, 2].plot(results[5,:], 'tab:red')\n",
        "axs[1, 2].set_title('labor hour')\n",
        "\n",
        "# Hide x labels and tick labels for top plots and y ticks for right plots.\n",
        "for ax in axs.flat:\n",
        "    ax.label_outer()"
      ],
      "execution_count": null,
      "outputs": [
        {
          "output_type": "display_data",
          "data": {
            "image/png": "[encoded data removed]",
            "text/plain": [
              "<Figure size 432x288 with 6 Axes>"
            ]
          },
          "metadata": {
            "tags": [],
            "needs_background": "light"
          }
        }
      ]
    },
    {
      "cell_type": "markdown",
      "metadata": {
        "id": "IpjOHVOlpuDo"
      },
      "source": [
        "Problem *b*"
      ]
    },
    {
      "cell_type": "code",
      "metadata": {
        "id": "2OuAVIn1KOrf",
        "colab": {
          "base_uri": "https://localhost:8080/",
          "height": 281
        },
        "outputId": "22f6c8d7-4ceb-4ad9-8514-f422527908b9"
      },
      "source": [
        "results = np.delete(results, np.arange(200), 1)\n",
        "fig, axs = plt.subplots(2, 3)\n",
        "axs[0, 0].plot(results[0,:])\n",
        "axs[0, 0].set_title('Value')\n",
        "axs[0, 1].plot(results[1,:]*(grid_max / grid_size), 'tab:orange')\n",
        "axs[0, 1].set_title('capital')\n",
        "axs[0, 2].plot(results[2,:], 'tab:green')\n",
        "axs[0, 2].set_title('consumption')\n",
        "axs[1, 0].plot(results[3,:])\n",
        "axs[1, 0].set_title('investment')\n",
        "axs[1, 1].plot(results[4,:], 'tab:blue')\n",
        "axs[1, 1].set_title('output')\n",
        "axs[1, 2].plot(results[5,:], 'tab:red')\n",
        "axs[1, 2].set_title('labor hour')\n",
        "\n",
        "# Hide x labels and tick labels for top plots and y ticks for right plots.\n",
        "for ax in axs.flat:\n",
        "    ax.label_outer()"
      ],
      "execution_count": null,
      "outputs": [
        {
          "output_type": "display_data",
          "data": {
            "image/png": "[encoded data removed]",
            "text/plain": [
              "<Figure size 432x288 with 6 Axes>"
            ]
          },
          "metadata": {
            "tags": [],
            "needs_background": "light"
          }
        }
      ]
    },
    {
      "cell_type": "code",
      "metadata": {
        "id": "x3PzIuPJU9X_",
        "colab": {
          "base_uri": "https://localhost:8080/"
        },
        "outputId": "e53e7bc2-fbd9-494c-958a-09cf1c2a4190"
      },
      "source": [
        "print(\"Captital : Steady state = \", k_star, \"Model =\", np.mean(results[1,:])*(grid_max / grid_size))\n",
        "print(\"Consumption : Steady state = \", c_star, \"Model =\", np.mean(results[2,:]))\n",
        "print(\"Investment : Steady state = \", i_star, \"Model =\", np.mean(results[3,:]))\n",
        "print(\"Output : Steady state = \", y_star, \"Model =\", np.mean(results[4,:]))\n",
        "print(\"Hours worked : Steady state = \", n_star, \"Model =\", np.mean(results[5,:]))"
      ],
      "execution_count": null,
      "outputs": [
        {
          "output_type": "stream",
          "text": [
            "Captital : Steady state =  0.36426709261010914 Model = 5.310666666666666\n",
            "Consumption : Steady state =  0.3836614184972544 Model = 1.3514509705743836\n",
            "Investment : Steady state =  0.02914136740880873 Model = 0.4274902748322144\n",
            "Output : Steady state =  0.4128027859060631 Model = 1.7789412454065978\n",
            "Hours worked : Steady state =  0.44870172553354437 Model = 0.852379991638796\n"
          ],
          "name": "stdout"
        }
      ]
    },
    {
      "cell_type": "code",
      "metadata": {
        "id": "S5BA-up8WUcm",
        "colab": {
          "base_uri": "https://localhost:8080/"
        },
        "outputId": "f44551ff-6159-4155-ebf8-284088c69a07"
      },
      "source": [
        "np.cov(-np.transpose(results[5,:]), np.transpose(results[4,:]))"
      ],
      "execution_count": null,
      "outputs": [
        {
          "output_type": "execute_result",
          "data": {
            "text/plain": [
              "array([[ 0.0002663 , -0.00118827],\n",
              "       [-0.00118827,  0.00951949]])"
            ]
          },
          "metadata": {
            "tags": []
          },
          "execution_count": 19
        }
      ]
    },
    {
      "cell_type": "markdown",
      "metadata": {
        "id": "jka_p8fjr_ET"
      },
      "source": [
        "Problem *c*"
      ]
    },
    {
      "cell_type": "code",
      "metadata": {
        "id": "PEOhwS5fWgse",
        "colab": {
          "base_uri": "https://localhost:8080/"
        },
        "outputId": "f02a601f-6351-4661-a83d-52700017b88d"
      },
      "source": [
        "print(\"Output:\")\n",
        "print(\"    Standard Deviation:\")\n",
        "print(\"  Data : 1.70 / Model : \", np.std(results[4,:]))\n",
        "print(\"Consumption:\")\n",
        "print(\"    Standard Deviation:\")\n",
        "print(\"  Data : 0.80 / Model : \", np.std(results[2,:]))\n",
        "print(\"Investment:\")\n",
        "print(\"    Standard Deviation:\")\n",
        "print(\"  Data : 6.49 / Model : \", np.std(results[3,:]))\n",
        "print(\"Hours worked:\")\n",
        "print(\"    Standard Deviation:\")\n",
        "print(\"  Data : 1.69 / Model : \", np.std(results[5,:]))"
      ],
      "execution_count": null,
      "outputs": [
        {
          "output_type": "stream",
          "text": [
            "Output:\n",
            "    Standard Deviation:\n",
            "  Data : 1.70 / Model :  0.09750687890516016\n",
            "Consumption:\n",
            "    Standard Deviation:\n",
            "  Data : 0.80 / Model :  0.06896928540019923\n",
            "Investment:\n",
            "    Standard Deviation:\n",
            "  Data : 6.49 / Model :  0.04015534957798069\n",
            "Hours worked:\n",
            "    Standard Deviation:\n",
            "  Data : 1.69 / Model :  0.01630838102287509\n"
          ],
          "name": "stdout"
        }
      ]
    },
    {
      "cell_type": "code",
      "metadata": {
        "id": "dSCINxa4s0Uc",
        "colab": {
          "base_uri": "https://localhost:8080/"
        },
        "outputId": "1f313557-f455-4611-db73-bf0c9a479d10"
      },
      "source": [
        "print(\"Output:\")\n",
        "print(\"    Standard Deviation :\")\n",
        "print(\"  Data : 1 / Model : \", 1)\n",
        "print(\"Consumption:\")\n",
        "print(\"    Ratio of Standard Deviation to Output Standard Deviation:\")\n",
        "print(\"  Data : 0.47 / Model : \", np.std(results[2,:])/np.std(results[4,:]))\n",
        "print(\"Investment:\")\n",
        "print(\"    Ratio of Standard Deviation to Output Standard Deviation:\")\n",
        "print(\"  Data : 3.83 / Model : \", np.std(results[3,:])/np.std(results[4,:]))\n",
        "print(\"Hours worked:\")\n",
        "print(\"    Ratio of Standard Deviation to Output Standard Deviation:\")\n",
        "print(\"  Data : 1.00 / Model : \", np.std(results[5,:])/np.std(results[4,:]))"
      ],
      "execution_count": null,
      "outputs": [
        {
          "output_type": "stream",
          "text": [
            "Output:\n",
            "    Standard Deviation :\n",
            "  Data : 1 / Model :  1\n",
            "Consumption:\n",
            "    Ratio of Standard Deviation to Output Standard Deviation:\n",
            "  Data : 0.47 / Model :  0.7073273821766158\n",
            "Investment:\n",
            "    Ratio of Standard Deviation to Output Standard Deviation:\n",
            "  Data : 3.83 / Model :  0.4118206841287341\n",
            "Hours worked:\n",
            "    Ratio of Standard Deviation to Output Standard Deviation:\n",
            "  Data : 1.00 / Model :  0.16725364616313276\n"
          ],
          "name": "stdout"
        }
      ]
    }
  ]
}